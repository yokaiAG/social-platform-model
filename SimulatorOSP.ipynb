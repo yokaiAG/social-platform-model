{
 "cells": [
  {
   "cell_type": "markdown",
   "metadata": {},
   "source": [
    "# <center> Simulator </center>\n",
    "<b>Date</b>: 07/19/2019\n",
    "    \n",
    "<b>Authors</b>: Anastasios Giovanidis, Bruno Baynat, Clémence Magnien, Antoine Vendeville"
   ]
  },
  {
   "cell_type": "markdown",
   "metadata": {},
   "source": [
    "This code is used to create synthetic twitter datasets according to the model. We start by generating instants of activity for each user according to their $\\lambda$ and $\\mu$, then from these instants of activity and from a chosen user graph we can simulate the evolution of the network. The notebook is organized as follows:\n",
    "1. <b>Timestamps creation.</b> Functions to generate instants of activity according to the posting rates $\\lambda$ and the reposting rates $\\mu$.\n",
    "2. <b>Network simulation.</b> Function to simulate evolution of the network from instants of activity (generated with the functions from section 1) and a user graph.\n",
    "3. <b>Example.</b> We generate timestamps, create a user graph and simulate evolution of the network. The output consists of two `.txt` files, one being the adjacency list of the user graph and the other the list of tweets."
   ]
  },
  {
   "cell_type": "code",
   "execution_count": 6,
   "metadata": {},
   "outputs": [],
   "source": [
    "import numpy as np\n",
    "import random as random\n",
    "from operator import itemgetter"
   ]
  },
  {
   "cell_type": "markdown",
   "metadata": {},
   "source": [
    "## 1. Timestamps creation"
   ]
  },
  {
   "cell_type": "markdown",
   "metadata": {},
   "source": [
    "This section is to generate instants of activity for each user. The goal is to ouput a list with each entry of the form `userid timestamp event_type`, where\n",
    "- `userid` is the unique id $\\in \\{1, \\ldots, N\\}$ of the (re)tweeting user\n",
    "- `timestamp` is the instant of occurence (seconds since the beginning)\n",
    "- `event_type` is a string that indicates if the event is an original post ('post') or a repost ('repost').\n",
    "\n",
    "There are 3 functions:\n",
    "- `exponential_timestamps` creates events with exponential inter-arrival times, i.e. the activity of any user follows a Poisson process\n",
    "- `hyperexp_timestamps` creates events with hyper-exponential inter-arrival times\n",
    "- `constant_timestamps` creates events with constant inter-arrival times.\n",
    "\n",
    "For each one, a maximal number of events must be precised to control the size of the output list. Events are generated user by user, first posts then reposts."
   ]
  },
  {
   "cell_type": "markdown",
   "metadata": {},
   "source": [
    "### 1.1 Exponential timestamps\n",
    "Waiting time between two posts (resp. reposts) from user $i$ is distributed with the density $\\lambda_i e^{-\\lambda_i x}$ (resp. $\\mu_i e^{-\\mu_i x}$)."
   ]
  },
  {
   "cell_type": "code",
   "execution_count": 112,
   "metadata": {},
   "outputs": [],
   "source": [
    "def exponential_timestamps(lambdas, mus, n_events):\n",
    "    \n",
    "    # init\n",
    "    N = len(lambdas)\n",
    "    events = list()\n",
    "    \n",
    "    # generate user by user\n",
    "    for j in range(N):\n",
    "        lambd, mu = lambdas[j], mus[j]\n",
    "        \n",
    "        # first posts\n",
    "        if lambd > 0:\n",
    "            time = 0\n",
    "            for n in range(nb_events):\n",
    "                dice = random.expovariate(lambdas[j])\n",
    "                time += dice\n",
    "                events.append((j, time, 'post'))\n",
    "            \n",
    "        # then reposts\n",
    "        if mu > 0:\n",
    "            time = 0\n",
    "            for n in range(nb_events):\n",
    "                dice = random.expovariate(mus[j])\n",
    "                time += dice\n",
    "                events.append((j, time, 'repost'))\n",
    "        \n",
    "    # end\n",
    "    return sorted(events, key=itemgetter(1))[:nb_events]"
   ]
  },
  {
   "cell_type": "markdown",
   "metadata": {},
   "source": [
    "### 1.2 Hyper-exponential timestamps\n",
    "Waiting time before the next post from user $i$ is distributed as follows:\n",
    "- with proba $p_i$ it is exponential of parameter $\\lambda_i^{(1)}$\n",
    "- with proba $1 - p_i$ it is exponential of parameter $\\lambda_i^{(2)}$\n",
    "\n",
    "Note that if we set $p_i=10/11$, $\\lambda_i^{(1)} = 10 \\lambda_i$ and $\\lambda_i^{(2)} = 0.1 \\lambda_i$ then the inter-arrival times have the same mean that if we used exponential distribution of parameter $\\lambda_i$.\n",
    "\n",
    "Behavior for reposts is similar, with $q$ instead of $p$.\n",
    "\n",
    "<b> Warning! </b> If $\\lambda_i^{(1)} > 0$ we require $\\lambda_i^{(2)} > 0$ and reversely. Same for $\\mu$."
   ]
  },
  {
   "cell_type": "code",
   "execution_count": 110,
   "metadata": {},
   "outputs": [],
   "source": [
    "def hyperexp_timestamps(lambdas1, lambdas2, mus1, mus2, P, Q, n_events):\n",
    "    \n",
    "    # init\n",
    "    N = len(lambdas1)\n",
    "    events = list()\n",
    "    \n",
    "    # generate user by user\n",
    "    for j in range(N):\n",
    "        p, q, lambd1, lambd2, mu1, mu2 = P[j], Q[j], lambdas1[j], lambdas2[j], mus1[j], mus2[j]\n",
    "        \n",
    "        # first posts\n",
    "        if lambd1 > 0:\n",
    "            time = 0\n",
    "            for n in range(nb_events):\n",
    "                dice = random.random()\n",
    "                if dice < p:\n",
    "                    time += random.expovariate(lambd1)\n",
    "                else:\n",
    "                    time += random.expovariate(lambd2)\n",
    "                events.append((j, time, 'post'))\n",
    "            \n",
    "        # then reposts\n",
    "        if mu1 > 0:\n",
    "            time = 0\n",
    "            for n in range(nb_events):\n",
    "                dice = random.random()\n",
    "                if dice < q:\n",
    "                    time += random.expovariate(mu1)\n",
    "                else:\n",
    "                    time += random.expovariate(mu2)\n",
    "                events.append((j, time, 'repost'))\n",
    "        \n",
    "    # end\n",
    "    return sorted(events, key=itemgetter(1))[:nb_events]"
   ]
  },
  {
   "cell_type": "markdown",
   "metadata": {},
   "source": [
    "### 1.3 Constant timestamps\n",
    "Here we just have to choose an inter-arrival time for each user and it will always be the same. `inter_post` is the list of inter-posting times and `inter_repost` the list of inter-reposting times. Setting one of those to zero makes the user never take the corresponding action (post or repost)."
   ]
  },
  {
   "cell_type": "code",
   "execution_count": 111,
   "metadata": {},
   "outputs": [],
   "source": [
    "def constant_timestamps(inter_post, inter_repost, n_events):\n",
    "    \n",
    "    # init\n",
    "    N = len(inter_post)\n",
    "    events = list()\n",
    "    \n",
    "    # generate user by user\n",
    "    for j in range(N):\n",
    "        t,s = inter_post[j], inter_repost[j]\n",
    "        \n",
    "        # first posts\n",
    "        if t > 0:\n",
    "            time = 0\n",
    "            for n in range(nb_events):\n",
    "                time += t\n",
    "                events.append((j, time, 'post'))\n",
    "            \n",
    "        # then reposts\n",
    "        if s > 0:\n",
    "            time = 0\n",
    "            for n in range(nb_events):\n",
    "                time += s\n",
    "                events.append((j, time, 'repost'))\n",
    "        \n",
    "    # end\n",
    "    return sorted(events, key=itemgetter(1))[:nb_events]"
   ]
  },
  {
   "cell_type": "markdown",
   "metadata": {},
   "source": [
    "## 2. Network simulation"
   ]
  },
  {
   "cell_type": "markdown",
   "metadata": {},
   "source": [
    "Here is the function to simulate the evolution of a social platform according to timestamps of activities, as the one that can be generated with the above functions. Parameters:\n",
    "- `N`: the number of users\n",
    "- `M`: newsfeeds sizes\n",
    "- `timestamps`: list of event of the form as those generated by the previous functions\n",
    "- `followers`: dictionnary of following relationships, as the one created in the first section (`Followers[i]` is a list containing ids of the followers of user $i$)\n",
    "- `selection_policy`: string to choose among 'random', 'newest' and 'most_popular'\n",
    "- `eviction_policy`: string to choose among 'random', 'oldest' (FIFO) and 'least_popular'\n",
    "\n",
    "Output: a list where the $i^{th}$ entry corresponds to the $i^{th}$ event occurring on the network. Each event is described as a tuple `twid timestamp userid rtid`, with\n",
    "- `twid` is the unique id of the tweet, $\\in \\{1, \\ldots, nb\\_events\\}$\n",
    "- `timestamp` is the instant of occurence (seconds since the beginning)\n",
    "- `userid` is the unique id $\\in \\{1, \\ldots, N\\}$ of the (re)tweeting user\n",
    "- `rtid` is the id of the original tweet in case of retweet, else is set to -1\n",
    "\n",
    "If we come accross an impossible event (like a repost from user $i$ but user $i$'s newsfeed is empty) it is skipped. The simulation starts with the first possible event. We keep track of the number of reposts for each content, because it is useful in popular policies."
   ]
  },
  {
   "cell_type": "code",
   "execution_count": 88,
   "metadata": {},
   "outputs": [],
   "source": [
    "def simulation(N, M, timestamps, followers, selection_policy='random', eviction_policy='random'):\n",
    "    \n",
    "    # initialization\n",
    "    news = {i:list() for i in range(N)}\n",
    "    post_id = 1 # id of the next original post\n",
    "    time = 0 # time counter\n",
    "    n_iter = len(timestamps) # number of iterations to do\n",
    "    out_list = list() # will contain the events\n",
    "    \n",
    "    # iterations\n",
    "    for n in range(n_iter):\n",
    "     \n",
    "        # get next event\n",
    "        event_user, event_time, event_type = timestamps[n]\n",
    "        \n",
    "        # if repost\n",
    "        if event_type == 'repost':\n",
    "            \n",
    "            if len(news[event_user]) == 0: # skip the event if the user has empty newsfeed\n",
    "                continue\n",
    "            else:\n",
    "                # choose what to repost according to selection policy\n",
    "                if selection_policy == 'random':\n",
    "                    new_post = random.choice(news[event_user])\n",
    "                elif selection_policy == 'newest':\n",
    "                    new_post = news[event_user][0]\n",
    "                elif selection_policy == 'most_popular':\n",
    "                    new_post = max(news[event_user], key=itemgetter(2))\n",
    "                new_post[2] += 1 # increment number of reposts of the reposted content\n",
    "            \n",
    "        # otherwise create new post\n",
    "        else: \n",
    "            new_post = [post_id, event_user, 0]\n",
    "        \n",
    "        # update newsfeeds for followers of event user\n",
    "        for j in range(N):\n",
    "            if j in followers[event_user]:\n",
    "                \n",
    "                # remove post if newsfeed full\n",
    "                if len(news[j]) == M:\n",
    "                    if eviction_policy == 'random':\n",
    "                        deleted_post = random.choice(news[j])\n",
    "                    elif eviction_policy == 'oldest':\n",
    "                        deleted_post = news[j][-1]\n",
    "                    elif eviction_policy == 'least_popular':\n",
    "                        deleted_post = min(news[j], key=itemgetter(2))\n",
    "                    news[j].remove(deleted_post)\n",
    "                \n",
    "                # insert new post\n",
    "                news[j].insert(0, new_post)\n",
    "                \n",
    "        # add event to list\n",
    "        uid, ts = event_user, time\n",
    "        if event_type == 'repost':\n",
    "            rtid = new_post[0]\n",
    "        else:\n",
    "            rtid = -1\n",
    "        out_list.append((post_id, ts, uid, rtid))\n",
    "        \n",
    "        # finally update time and next id\n",
    "        time = event_time\n",
    "        post_id += 1\n",
    "        \n",
    "    # end return the list of events\n",
    "    return out_list"
   ]
  },
  {
   "cell_type": "markdown",
   "metadata": {},
   "source": [
    "## 3. Example"
   ]
  },
  {
   "cell_type": "markdown",
   "metadata": {},
   "source": [
    "Choose the number of users $N$, the number of events `n_events` and the activity rates. The latter are in the form of two lists of length $N$: `Lambda` and `Mu` where `Lambda[i]` is the posting rate of user $i$ and `Mu[i]` is her reposting rate."
   ]
  },
  {
   "cell_type": "code",
   "execution_count": 101,
   "metadata": {},
   "outputs": [],
   "source": [
    "N = 30\n",
    "M = 5 # newsfeed size\n",
    "n_events = 1000\n",
    "Lambda = np.random.random(N)\n",
    "Mu = np.random.random(N)"
   ]
  },
  {
   "cell_type": "markdown",
   "metadata": {},
   "source": [
    "Choose out path where the results will be written."
   ]
  },
  {
   "cell_type": "code",
   "execution_count": 102,
   "metadata": {},
   "outputs": [],
   "source": [
    "out_path = \"./\""
   ]
  },
  {
   "cell_type": "markdown",
   "metadata": {},
   "source": [
    "### 3.2. Timestamps creation"
   ]
  },
  {
   "cell_type": "code",
   "execution_count": 103,
   "metadata": {},
   "outputs": [],
   "source": [
    "timestamps = exponential_timestamps(Lambda, Mu, n_events)"
   ]
  },
  {
   "cell_type": "markdown",
   "metadata": {},
   "source": [
    "Look at the first timestamps."
   ]
  },
  {
   "cell_type": "code",
   "execution_count": 104,
   "metadata": {
    "scrolled": true
   },
   "outputs": [
    {
     "data": {
      "text/plain": [
       "[(9, 0.05501010913584419, 'repost'),\n",
       " (19, 0.09689148209991126, 'post'),\n",
       " (14, 0.13699038433451896, 'repost'),\n",
       " (2, 0.16198933961402062, 'repost'),\n",
       " (5, 0.19891611582889357, 'post'),\n",
       " (24, 0.2079064447343156, 'repost'),\n",
       " (11, 0.2539442332486748, 'repost'),\n",
       " (2, 0.2780827067653415, 'post'),\n",
       " (10, 0.38729215366935965, 'post'),\n",
       " (2, 0.3978035217930048, 'repost')]"
      ]
     },
     "execution_count": 104,
     "metadata": {},
     "output_type": "execute_result"
    }
   ],
   "source": [
    "timestamps[:10]"
   ]
  },
  {
   "cell_type": "markdown",
   "metadata": {},
   "source": [
    "### 3.1. User graph creation"
   ]
  },
  {
   "cell_type": "markdown",
   "metadata": {},
   "source": [
    "We represent the user graph with a dictionary `Followers` where `Followers[i]` is the set of leaders of user $i$."
   ]
  },
  {
   "cell_type": "code",
   "execution_count": 105,
   "metadata": {},
   "outputs": [
    {
     "name": "stdout",
     "output_type": "stream",
     "text": [
      "Number of edges:  101\n"
     ]
    }
   ],
   "source": [
    "# example: graph Erdös-Rényi of parameter w\n",
    "w = 0.1\n",
    "Followers = {i:set() for i in range(N)}\n",
    "for i in range(N):\n",
    "    for j in range(N):\n",
    "        if j != i and np.random.random() < w:\n",
    "            Followers[i].add(j)\n",
    "print(\"Number of edges: \", sum([len(Followers[i]) for i in range(N)]))"
   ]
  },
  {
   "cell_type": "markdown",
   "metadata": {},
   "source": [
    "Write adjacency list on file `out_folder/adjList.txt`."
   ]
  },
  {
   "cell_type": "code",
   "execution_count": 106,
   "metadata": {},
   "outputs": [],
   "source": [
    "graph_out = open(out_path + \"adjList.txt\", \"w\")\n",
    "for i in Followers:\n",
    "    for j in Followers[i]:\n",
    "        graph_out.write(\"{} {}\\n\".format(i,j))\n",
    "graph_out.close()"
   ]
  },
  {
   "cell_type": "markdown",
   "metadata": {},
   "source": [
    "### 3.3. Simulation"
   ]
  },
  {
   "cell_type": "code",
   "execution_count": 107,
   "metadata": {
    "scrolled": true
   },
   "outputs": [],
   "source": [
    "Events = simulation(N, M, timestamps, Followers, selection_policy='random', eviction_policy='random')"
   ]
  },
  {
   "cell_type": "markdown",
   "metadata": {},
   "source": [
    "Look at the first events."
   ]
  },
  {
   "cell_type": "code",
   "execution_count": 108,
   "metadata": {
    "scrolled": false
   },
   "outputs": [
    {
     "data": {
      "text/plain": [
       "[(1, 0, 19, -1),\n",
       " (2, 0.09689148209991126, 5, -1),\n",
       " (3, 0.19891611582889357, 2, -1),\n",
       " (4, 0.2780827067653415, 10, -1),\n",
       " (5, 0.38729215366935965, 8, -1),\n",
       " (6, 0.4106343017459213, 22, -1),\n",
       " (7, 0.4880064785309956, 6, -1),\n",
       " (8, 0.5112762980483138, 23, -1),\n",
       " (9, 0.5263073511875039, 25, -1),\n",
       " (10, 0.5595644895807304, 11, 7)]"
      ]
     },
     "execution_count": 108,
     "metadata": {},
     "output_type": "execute_result"
    }
   ],
   "source": [
    "Events[:10]"
   ]
  },
  {
   "cell_type": "markdown",
   "metadata": {},
   "source": [
    "Write events list to `out_path/trace.txt`. Each line is an entry of the list."
   ]
  },
  {
   "cell_type": "code",
   "execution_count": 109,
   "metadata": {},
   "outputs": [],
   "source": [
    "out = open(out_path + \"trace.txt\", \"w\")\n",
    "for e in Events:\n",
    "    out.write(\"{} {} {} {}\\n\".format(e[0], e[1], e[2], e[3]))\n",
    "out.close()"
   ]
  }
 ],
 "metadata": {
  "kernelspec": {
   "display_name": "Python 3",
   "language": "python",
   "name": "python3"
  },
  "language_info": {
   "codemirror_mode": {
    "name": "ipython",
    "version": 3
   },
   "file_extension": ".py",
   "mimetype": "text/x-python",
   "name": "python",
   "nbconvert_exporter": "python",
   "pygments_lexer": "ipython3",
   "version": "3.7.2"
  }
 },
 "nbformat": 4,
 "nbformat_minor": 2
}
