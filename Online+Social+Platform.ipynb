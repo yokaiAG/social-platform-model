{
 "cells": [
  {
   "cell_type": "markdown",
   "metadata": {},
   "source": [
    "# Online Social Platform"
   ]
  },
  {
   "cell_type": "markdown",
   "metadata": {},
   "source": [
    "### Author: yokaiAG\n",
    "\n",
    "### 8 June 2018"
   ]
  },
  {
   "cell_type": "markdown",
   "metadata": {},
   "source": [
    "We analyse the influence of users in a generic online social platform. \n",
    "\n",
    "In such platform, there are $N$ users in total. Each user $n$ is considered as a virtual node and has a Newsfeed and a Wall. Suppose the Newsfeed of size $M$ and the Wall of size $K$. Furthermore, each user has a set of leaders, $L^{(n)}$, and he/she can be the leader of others. The Newsfeed of $n$ is refreshed instantaneously with posts published on the Walls of his Leaders. The user visits his Newsfeed and chooses among the currently available posts to re-post on his own Wall with rate $\\mu^{(n)}\\geq 0$ [posts/unit-time]. Additionally, he produces own posts on his Wall with rate $\\lambda^{(n)}\\geq 0$. These posts are marked on their production by the user-author index $(n)$."
   ]
  },
  {
   "cell_type": "markdown",
   "metadata": {},
   "source": [
    "**Assumptions:** The choice of which post to share on one's Wall and which post to evict when a new post arrives is uniformly random, among the present posts on the Wall and the Newsfeed. Also, both post-feed processes per user are assumed Poisson."
   ]
  },
  {
   "cell_type": "markdown",
   "metadata": {},
   "source": [
    "Consider a particular user $i$. The steady-state probability to find posts from user $i$ on the Newsfeed and Wall of user $n$ is the tuple $(p_i^{(n)},q_i^{(n)})$. With this, we form the steady state column-vectors\n",
    "\n",
    "$Pvec(i):=(Pvec(1,i),\\ldots,Pvec(N,i))=(p_i^{(1)},\\ldots,p_i^{(n)})$, and\n",
    "\n",
    "$Qvec(i):=(Qvec(1,i),\\ldots,Qvec(N,i))=(q_i^{(1)},\\ldots,q_i^{(n)})$.\n",
    "\n",
    "These are the steady-state vectors for posts of origin $(i)$ on all the Newsfeeds and Walls of users. "
   ]
  },
  {
   "cell_type": "markdown",
   "metadata": {},
   "source": [
    "### Linear System solution"
   ]
  },
  {
   "cell_type": "markdown",
   "metadata": {},
   "source": [
    "To find the values of the steady-state vectors $Pvec(i)$ and Qvec(i), one needs to solve the following linear system:\n",
    "\n",
    "    (1) Pvec(i) = A.Pvec(i) + b(i)\n",
    "\n",
    "    (2) Qvec(i) = C.Pvec(i) + d(i).\n",
    "\n",
    "In the above $A$, $C$ are $N\\times N$ matrices and $b(i)$, $d(i)$ are $N\\times 1$ column vectors."
   ]
  },
  {
   "cell_type": "markdown",
   "metadata": {
    "collapsed": true
   },
   "source": [
    "$A(j,k) = \\frac{\\mu^{(k)}}{\\sum_{\\ell\\in L^{(j)}}\\lambda^{(\\ell)}+\\mu^{(\\ell)}}\\mathbf{1}(k\\in L^{(j)})$,\n",
    "\n",
    "$b(j,i) = \\frac{\\lambda^{(i)}}{\\sum_{\\ell\\in L^{(j)}}\\lambda^{(\\ell)}+\\mu^{(\\ell)}}\\mathbf{1}(i\\in L^{(j)})$,\n",
    "\n",
    "$C(j,i) = \\frac{\\mu^{(j)}}{\\lambda^{(j)}+\\mu^{(j)}}\\mathbf{1}(j==i)$,\n",
    "\n",
    "$d(j,i) = \\frac{\\lambda^{(i)}}{\\lambda^{(i)}+\\mu^{(i)}}\\mathbf{1}(j==i)$."
   ]
  },
  {
   "cell_type": "markdown",
   "metadata": {},
   "source": [
    "## Implementation"
   ]
  },
  {
   "cell_type": "code",
   "execution_count": 2,
   "metadata": {},
   "outputs": [
    {
     "name": "stdout",
     "output_type": "stream",
     "text": [
      "Populating the interactive namespace from numpy and matplotlib\n"
     ]
    }
   ],
   "source": [
    "%pylab inline\n",
    "import math"
   ]
  },
  {
   "cell_type": "markdown",
   "metadata": {},
   "source": [
    "## 1. Input Graphs"
   ]
  },
  {
   "cell_type": "markdown",
   "metadata": {
    "collapsed": true
   },
   "source": [
    "We would first like to generate the input graphs for our Social platform. \n",
    "\n",
    "We propose three graph categories:\n",
    "(a) Ring Graph, (b) Grid, (c) Erdos-Renyi random graph.\n",
    "\n",
    "For each graph, we need to define: (1) number of users $N$, (2) self- and re-post activity rate N-vectors, $Lvec$ and $Mvec$ (3) Leader graph (either NxN or list). \n",
    "\n",
    "For the special case of Ring, a radius $R$ should also be defined, which determines the number of leaders per user."
   ]
  },
  {
   "cell_type": "markdown",
   "metadata": {},
   "source": [
    "### A. Ring Graph"
   ]
  },
  {
   "cell_type": "markdown",
   "metadata": {},
   "source": [
    "First we determine the symmetric ring graph. Each node follows $R$ users at his right and left, so that in total he has $2R$ leaders. Obviously, $2R<N$."
   ]
  },
  {
   "cell_type": "code",
   "execution_count": 3,
   "metadata": {},
   "outputs": [
    {
     "name": "stdout",
     "output_type": "stream",
     "text": [
      "Rvec1= [0 3 0 3 3 2 2 1 0] \n",
      "\n",
      "Rvec2= [1 1 1 1 1 1 1 1 1] \n",
      "\n",
      "Rvec3= [2 1 1 1 1 1 1 1 1] \n",
      "\n"
     ]
    }
   ],
   "source": [
    "# INPUT RADIUS\n",
    "# defines radius in ring for each user\n",
    "# Radius scenario 1: random with maximum 2R < N\n",
    "N = 9\n",
    "Rhigh = int(N/2)\n",
    "Rvec1 = np.random.randint(0,Rhigh+1,N)\n",
    "R = 1\n",
    "Rvec2 = R*np.ones(N)\n",
    "Rvec2 = Rvec2.astype(int)\n",
    "Rvec3 = list(Rvec2)\n",
    "Rvec3[0] = 2\n",
    "Rvec3 = np.asarray(Rvec3)\n",
    "Rvec3 = Rvec3.astype(int)\n",
    "#\n",
    "print(\"Rvec1=\",Rvec1,\"\\n\")\n",
    "print(\"Rvec2=\",Rvec2,\"\\n\")\n",
    "print(\"Rvec3=\",Rvec3,\"\\n\")"
   ]
  },
  {
   "cell_type": "code",
   "execution_count": 4,
   "metadata": {
    "collapsed": true
   },
   "outputs": [],
   "source": [
    "def ring_graph(N, Rvec, lead=1, sym=1):\n",
    "    # Produces a list of Leaders, i.e. Lead[j] is the list of leaders for node j.\n",
    "    #\n",
    "    # Option lead =1: Vector Rvec is for leaders (Rvec[n] is the list of leaders for node n)\n",
    "    # Option lead =0: Vector Rvec is for followers (Rvec[n]) is the list of followers for node n)\n",
    "    #\n",
    "    # Option sym =1: case of symmetric leaders R right and R left of a user\n",
    "    # Option sym =0: non-symmetric leaders 2R at the right only.\n",
    "    #\n",
    "    Lead = list()\n",
    "    #\n",
    "    if lead==1 and sym==1:\n",
    "        for j in range(0,N):\n",
    "            f = list()\n",
    "            f.extend((j+(np.arange(Rvec[j])+1))%N)\n",
    "            f.extend((j-(np.arange(Rvec[j])+1))%N)\n",
    "            Lead.append(f)\n",
    "    elif lead==1 and sym==0:\n",
    "        for j in range(0,N):\n",
    "            f = list()\n",
    "            f.extend((j+(np.arange(Rvec[j])+1))%N)\n",
    "            Lead.append(f)\n",
    "    elif lead==0 and sym==1:\n",
    "        for j in range(0,N):\n",
    "            f = list()\n",
    "            Lead.append(f)\n",
    "        for j in range(0,N):\n",
    "            f = list()\n",
    "            f.extend((j+(np.arange(Rvec[j])+1))%N)\n",
    "            f.extend((j-(np.arange(Rvec[j])+1))%N)\n",
    "            for n in range(len(f)):\n",
    "                Lead[f[n]].append(j)\n",
    "    elif lead==0 and sym==0:\n",
    "        for j in range(0,N):\n",
    "            f = list()\n",
    "            Lead.append(f)\n",
    "        for j in range(0,N):\n",
    "            f = list()\n",
    "            f.extend((j+(np.arange(Rvec[j])+1))%N)\n",
    "            for n in range(len(f)):\n",
    "                Lead[f[n]].append(j)\n",
    "            \n",
    "    return Lead"
   ]
  },
  {
   "cell_type": "code",
   "execution_count": 5,
   "metadata": {},
   "outputs": [
    {
     "name": "stdout",
     "output_type": "stream",
     "text": [
      "[1 1 1 1 1 1 1 1 1]\n",
      "[[1, 8], [2, 0], [3, 1], [4, 2], [5, 3], [6, 4], [7, 5], [8, 6], [0, 7]]\n"
     ]
    }
   ],
   "source": [
    "LeadRing = ring_graph(N,Rvec2,lead=1,sym=1)\n",
    "print(Rvec2)\n",
    "print(LeadRing)"
   ]
  },
  {
   "cell_type": "markdown",
   "metadata": {},
   "source": [
    "We will now draw the produced directed Leader Graph."
   ]
  },
  {
   "cell_type": "code",
   "execution_count": 6,
   "metadata": {},
   "outputs": [
    {
     "data": {
      "image/png": "[encoded data removed]",
      "text/plain": [
       "<matplotlib.figure.Figure at 0x10c038828>"
      ]
     },
     "metadata": {},
     "output_type": "display_data"
    }
   ],
   "source": [
    "import networkx as nx\n",
    "Gring=nx.DiGraph()\n",
    "for n in range(N):\n",
    "    ln = list()\n",
    "    ln = LeadRing[n]\n",
    "    for j in range(len(ln)):\n",
    "        Gring.add_edge(ln[j],n)\n",
    "        \n",
    "nx.draw_networkx(Gring,arrows=True,with_labels=True,node_size=600,node_color='r')"
   ]
  },
  {
   "cell_type": "markdown",
   "metadata": {},
   "source": [
    "### B. Grid Graph"
   ]
  },
  {
   "cell_type": "markdown",
   "metadata": {},
   "source": [
    "In the Grid graph, every node has 4 leaders, except the nodes on the 4 vertices of the Grid who have 2 leaders and the nodes on the edges who have 3.\n",
    "\n",
    "The size of the grid graph should be such that $\\sqrt{N}$ is a postive integer."
   ]
  },
  {
   "cell_type": "code",
   "execution_count": 7,
   "metadata": {
    "collapsed": true
   },
   "outputs": [],
   "source": [
    "def grid_graph(N):\n",
    "    #\n",
    "    dim1 = math.sqrt(N)\n",
    "    #\n",
    "    # Check validity of Grid size\n",
    "    if np.abs(dim1-int(dim1))>0:\n",
    "        return print(\"not valid graph size N\\n\")\n",
    "    #\n",
    "    dim1 = int(dim1)\n",
    "    #\n",
    "    # If size is correct, then produce a list of Leaders.\n",
    "    # Nodes are indexed from top-left (\"0\") to bottom-right (\"N-1\")\n",
    "    # and in each row the indexing increased from left to right.\n",
    "    #\n",
    "    Lead = [list() for j in range(N)]\n",
    "    #\n",
    "    # Internal nodes with 4 leaders each.\n",
    "    for n in range(1,dim1-1):\n",
    "        for m in range(1,dim1-1):\n",
    "            indx = dim1*n+m\n",
    "            Lead[indx].extend([dim1*(n+1)+m, dim1*(n-1)+m, dim1*n+m+1, dim1*n+m-1 ])\n",
    "    # Four vertices with 2 leaders each.\n",
    "    Lead[0].extend([1, dim1])\n",
    "    Lead[dim1-1].extend([dim1-2,dim1*2-1])\n",
    "    Lead[dim1*(dim1-1)].extend([dim1*(dim1-1)+1,dim1*(dim1-2)])\n",
    "    Lead[N-1].extend([N-2,dim1*(dim1-1)-1])\n",
    "    # Remaining nodes on the four edges, not vertices.\n",
    "    # Top\n",
    "    for m in range(1,dim1-1):\n",
    "        Lead[m].extend([m-1,m+1,dim1+m])\n",
    "    # Bottom\n",
    "    for m in range(1,dim1-1):\n",
    "        Lead[dim1*(dim1-1)+m].extend([dim1*(dim1-1)+m-1,dim1*(dim1-1)+m+1,dim1*(dim1-2)+m])\n",
    "    # Left\n",
    "    for n in range(1,dim1-1):\n",
    "        Lead[dim1*n].extend([dim1*n+1,dim1*(n-1),dim1*(n+1)])\n",
    "    # Right\n",
    "    for n in range(1,dim1-1):\n",
    "        Lead[dim1*(n+1)-1].extend([dim1*(n+1)-2,dim1*(n)-1,dim1*(n+2)-1])\n",
    "\n",
    "    return Lead"
   ]
  },
  {
   "cell_type": "code",
   "execution_count": 8,
   "metadata": {},
   "outputs": [
    {
     "name": "stdout",
     "output_type": "stream",
     "text": [
      "[[1, 3], [0, 2, 4], [1, 5], [4, 0, 6], [7, 1, 5, 3], [4, 2, 8], [7, 3], [6, 8, 4], [7, 5]]\n"
     ]
    }
   ],
   "source": [
    "LeadGrid = grid_graph(N)\n",
    "print(LeadGrid)"
   ]
  },
  {
   "cell_type": "code",
   "execution_count": 9,
   "metadata": {},
   "outputs": [
    {
     "data": {
      "image/png": "[encoded data removed]",
      "text/plain": [
       "<matplotlib.figure.Figure at 0x11111add8>"
      ]
     },
     "metadata": {},
     "output_type": "display_data"
    }
   ],
   "source": [
    "Ggrid=nx.DiGraph()\n",
    "for n in range(N):\n",
    "    ln = list()\n",
    "    ln = LeadGrid[n]\n",
    "    for j in range(len(ln)):\n",
    "        Ggrid.add_edge(ln[j],n)\n",
    "\n",
    "pos=nx.spring_layout(Ggrid,iterations=100)\n",
    "nx.draw_networkx(Ggrid,pos,arrows=True,with_labels=True,node_size=600,node_color='r')"
   ]
  },
  {
   "cell_type": "markdown",
   "metadata": {},
   "source": [
    "## 2. Performance evaluation"
   ]
  },
  {
   "cell_type": "markdown",
   "metadata": {},
   "source": [
    "### General input \n",
    "We first define the general input (1) and (2) related to size and activity."
   ]
  },
  {
   "cell_type": "code",
   "execution_count": 10,
   "metadata": {},
   "outputs": [
    {
     "name": "stdout",
     "output_type": "stream",
     "text": [
      "9\n",
      "Lvec1= [ 9.35145  0.15629  7.108    5.58883  7.25765  0.10301  2.00839  2.86734\n",
      "  1.16939] \n",
      " Mvec1= [ 1.08614  7.98603  7.11104  3.58302  1.90218  0.47515  9.09261  2.71049\n",
      "  3.16071] \n",
      "\n",
      "Lvec2= [ 1.  1.  1.  1.  1.  1.  1.  1.  1.] \n",
      " Mvec2= [ 1.  1.  1.  1.  1.  1.  1.  1.  1.] \n",
      "\n",
      "Lvec3= [ 10.   1.   1.   1.   1.   1.   1.   1.   1.] \n",
      " Mvec3= [ 0.5  1.   1.   1.   1.   1.   1.   1.   1. ] \n",
      "\n"
     ]
    }
   ],
   "source": [
    "# GENERAL INPUT (N, Lvec, Mvec)\n",
    "print(N) # network size SEE ABOVE\n",
    "#\n",
    "# ACTIVITY\n",
    "# Scenario case 1: random activity\n",
    "Amax = 10 #maximum activity rate in the random choice (case 1)\n",
    "Lvec1 = np.random.uniform(0,Amax, N)\n",
    "Mvec1 = np.random.uniform(0,Amax, N)\n",
    "#\n",
    "Lvec1 = np.round(Lvec1, 5)\n",
    "Mvec1 = np.round(Mvec1, 5)\n",
    "# Scenario case 2: symmetric activity\n",
    "lam = 1.\n",
    "mu = 1\n",
    "Lvec2 = lam*np.ones(N, np.float64)\n",
    "Mvec2 = mu*np.ones(N, np.float64)\n",
    "#\n",
    "# Scenario case 3: asymmetric activity for 1 user\n",
    "lam1 = 10\n",
    "mu1 = 0.5\n",
    "Lvec3 = list(Lvec2)\n",
    "Mvec3 = list(Mvec2)\n",
    "Lvec3[0] = lam1\n",
    "Mvec3[0] = mu1\n",
    "Lvec3 = np.asarray(Lvec3)\n",
    "Mvec3 = np.asarray(Mvec3)\n",
    "#\n",
    "print(\"Lvec1=\",Lvec1,\"\\n\",\"Mvec1=\",Mvec1,\"\\n\")\n",
    "print(\"Lvec2=\",Lvec2,\"\\n\",\"Mvec2=\",Mvec2,\"\\n\")\n",
    "print(\"Lvec3=\",Lvec3,\"\\n\",\"Mvec3=\",Mvec3,\"\\n\")"
   ]
  },
  {
   "cell_type": "markdown",
   "metadata": {},
   "source": [
    "**CURRENT INPUT PARAMETERS**"
   ]
  },
  {
   "cell_type": "code",
   "execution_count": 11,
   "metadata": {},
   "outputs": [
    {
     "name": "stdout",
     "output_type": "stream",
     "text": [
      "9\n",
      "[ 10.   1.   1.   1.   1.   1.   1.   1.   1.]\n",
      "[ 0.5  1.   1.   1.   1.   1.   1.   1.   1. ]\n",
      "[2 1 1 1 1 1 1 1 1]\n",
      "[[1, 2, 8, 7], [2, 0], [3, 1], [4, 2], [5, 3], [6, 4], [7, 5], [8, 6], [0, 7]]\n"
     ]
    }
   ],
   "source": [
    "print(N)\n",
    "Lvec = Lvec3\n",
    "print(Lvec)\n",
    "Mvec = Mvec3\n",
    "print(Mvec)\n",
    "Rvec = Rvec3\n",
    "print(Rvec)\n",
    "Lead = ring_graph(N,Rvec,lead=1,sym=1)\n",
    "#Lead = grid_graph(N)\n",
    "print(Lead)"
   ]
  },
  {
   "cell_type": "markdown",
   "metadata": {},
   "source": [
    "From the Linear System solution, one realises that it is necessary to first populate the matrices $A$ and $C$, which are relevant for any solution process of the system. \n",
    "\n",
    "**Note** As a first approach, we will actually keep in memory entire $N\\times N$ matrices, an approach that limits our possibilities related to social platform dimension. Still a matrix with a sufficient number of users e.g. $N=10^3$ or even $N=10^4$ is feasible. For larger networks, memory will play an issue and other techniques should be developped. "
   ]
  },
  {
   "cell_type": "code",
   "execution_count": 12,
   "metadata": {
    "collapsed": true
   },
   "outputs": [],
   "source": [
    "def fill_A(N,Lvec,Mvec,Lead):\n",
    "    A = np.zeros((N,N))\n",
    "    # We consider that Lead[j] contains the set of leaders of node j.\n",
    "    #\n",
    "    Som = np.zeros(N)\n",
    "    for j in range(N):\n",
    "        Som[j] = sum(Lvec[Lead[j]]+Mvec[Lead[j]])\n",
    "        for n in range(len(Lead[j])):\n",
    "            k = Lead[j][n]\n",
    "            A[j,k] = Mvec[k]/Som[j]\n",
    "    return A"
   ]
  },
  {
   "cell_type": "code",
   "execution_count": 13,
   "metadata": {},
   "outputs": [
    {
     "name": "stdout",
     "output_type": "stream",
     "text": [
      "[[ 0.     0.125  0.125  0.     0.     0.     0.     0.125  0.125]\n",
      " [ 0.04   0.     0.08   0.     0.     0.     0.     0.     0.   ]\n",
      " [ 0.     0.25   0.     0.25   0.     0.     0.     0.     0.   ]\n",
      " [ 0.     0.     0.25   0.     0.25   0.     0.     0.     0.   ]\n",
      " [ 0.     0.     0.     0.25   0.     0.25   0.     0.     0.   ]\n",
      " [ 0.     0.     0.     0.     0.25   0.     0.25   0.     0.   ]\n",
      " [ 0.     0.     0.     0.     0.     0.25   0.     0.25   0.   ]\n",
      " [ 0.     0.     0.     0.     0.     0.     0.25   0.     0.25 ]\n",
      " [ 0.04   0.     0.     0.     0.     0.     0.     0.08   0.   ]]\n"
     ]
    }
   ],
   "source": [
    "A = fill_A(N,Lvec,Mvec,Lead)\n",
    "print(A)"
   ]
  },
  {
   "cell_type": "code",
   "execution_count": 14,
   "metadata": {
    "collapsed": true
   },
   "outputs": [],
   "source": [
    "def fill_C(N,Lvec,Mvec):\n",
    "    C = np.zeros((N,N))\n",
    "    # C is diagonal.\n",
    "    #\n",
    "    for j in range(N):\n",
    "        if Lvec[j]+Mvec[j]>0:\n",
    "            C[j][j] = Mvec[j]/(Lvec[j]+Mvec[j])\n",
    "    return C"
   ]
  },
  {
   "cell_type": "code",
   "execution_count": 15,
   "metadata": {},
   "outputs": [
    {
     "name": "stdout",
     "output_type": "stream",
     "text": [
      "[[ 0.04761905  0.          0.          0.          0.          0.          0.\n",
      "   0.          0.        ]\n",
      " [ 0.          0.5         0.          0.          0.          0.          0.\n",
      "   0.          0.        ]\n",
      " [ 0.          0.          0.5         0.          0.          0.          0.\n",
      "   0.          0.        ]\n",
      " [ 0.          0.          0.          0.5         0.          0.          0.\n",
      "   0.          0.        ]\n",
      " [ 0.          0.          0.          0.          0.5         0.          0.\n",
      "   0.          0.        ]\n",
      " [ 0.          0.          0.          0.          0.          0.5         0.\n",
      "   0.          0.        ]\n",
      " [ 0.          0.          0.          0.          0.          0.          0.5\n",
      "   0.          0.        ]\n",
      " [ 0.          0.          0.          0.          0.          0.          0.\n",
      "   0.5         0.        ]\n",
      " [ 0.          0.          0.          0.          0.          0.          0.\n",
      "   0.          0.5       ]]\n"
     ]
    }
   ],
   "source": [
    "C = fill_C(N,Lvec,Mvec)\n",
    "print(C)"
   ]
  },
  {
   "cell_type": "markdown",
   "metadata": {},
   "source": [
    "We continue by including the column vectors $b_i$ and $d_i$, for a specific label $i$."
   ]
  },
  {
   "cell_type": "code",
   "execution_count": 16,
   "metadata": {
    "collapsed": true
   },
   "outputs": [],
   "source": [
    "def fill_bi(i,N,Lvec,Mvec,Lead):\n",
    "    bi = np.zeros(N)\n",
    "    for j in range(N):\n",
    "        if i in Lead[j]:\n",
    "            bi[j] = Lvec[i]/sum(Lvec[Lead[j]]+Mvec[Lead[j]])\n",
    "    return bi"
   ]
  },
  {
   "cell_type": "code",
   "execution_count": 17,
   "metadata": {},
   "outputs": [
    {
     "name": "stdout",
     "output_type": "stream",
     "text": [
      "[ 0.   0.8  0.   0.   0.   0.   0.   0.   0.8]\n"
     ]
    }
   ],
   "source": [
    "bi = fill_bi(0,N,Lvec,Mvec,Lead)\n",
    "print(bi)"
   ]
  },
  {
   "cell_type": "code",
   "execution_count": 18,
   "metadata": {
    "collapsed": true
   },
   "outputs": [],
   "source": [
    "def fill_di(i,N,Lvec,Mvec):\n",
    "    di = np.zeros(N)\n",
    "    di[i] = Lvec[i]/(Lvec[i]+Mvec[i])\n",
    "    return di"
   ]
  },
  {
   "cell_type": "code",
   "execution_count": 19,
   "metadata": {},
   "outputs": [
    {
     "name": "stdout",
     "output_type": "stream",
     "text": [
      "[ 0.95238095  0.          0.          0.          0.          0.          0.\n",
      "  0.          0.        ]\n"
     ]
    }
   ],
   "source": [
    "di = fill_di(0,N,Lvec,Mvec)\n",
    "print(di)"
   ]
  },
  {
   "cell_type": "markdown",
   "metadata": {},
   "source": [
    "After defining all matrices $A$, $C$ and vectors $b_i$, $d_i$ per label $i$ we can write down the main routine to find the fixed point. There are two methods:\n",
    "\n",
    "**(M.1) the first method is based on matrix inversion** \n",
    "\n",
    "$p_i = (I_N-A)^{-1}b_i$, and\n",
    "\n",
    "$q_i = Cp_i + d_i$.\n"
   ]
  },
  {
   "cell_type": "markdown",
   "metadata": {},
   "source": [
    "We first solve the system for a specific label $i$."
   ]
  },
  {
   "cell_type": "code",
   "execution_count": 20,
   "metadata": {
    "collapsed": true
   },
   "outputs": [],
   "source": [
    "def pi_method1(i,N,Lvec,Mvec,Lead):\n",
    "    A = fill_A(N,Lvec,Mvec,Lead)\n",
    "    C = fill_C(N,Lvec,Mvec)\n",
    "    bi = fill_bi(i,N,Lvec,Mvec,Lead)\n",
    "    di = fill_di(i,N,Lvec,Mvec)\n",
    "    IN = np.eye(N)\n",
    "    #\n",
    "    pi = (np.linalg.inv(IN-A)).dot(bi)\n",
    "    \n",
    "    return pi"
   ]
  },
  {
   "cell_type": "code",
   "execution_count": 39,
   "metadata": {},
   "outputs": [
    {
     "name": "stdout",
     "output_type": "stream",
     "text": [
      "[ 0.16415398  0.02861992  0.27563049  0.07389543  0.01984751  0.00547304\n",
      "  0.00192109  0.00218151  0.00674224]\n"
     ]
    }
   ],
   "source": [
    "pi1 = pi_method1(1,N,Lvec,Mvec,Lead)\n",
    "print(pi)"
   ]
  },
  {
   "cell_type": "markdown",
   "metadata": {},
   "source": [
    "For the solution of all labels $i=1,...,N$ one needs to calculate the matrix inverse only once, which saves a lot of computation.\n",
    "\n",
    "Furthermore the vector $bi$ has very few non-zero entries, a fact that can be profitable towards acceleration of the computation time. "
   ]
  },
  {
   "cell_type": "code",
   "execution_count": 23,
   "metadata": {
    "collapsed": true
   },
   "outputs": [],
   "source": [
    "def solution_m1(N,Lvec,Mvec,Lead):\n",
    "    #\n",
    "    # Newsfeed\n",
    "    P = np.zeros((N,N))\n",
    "    #\n",
    "    A = fill_A(N,Lvec,Mvec,Lead)\n",
    "    #\n",
    "    IN = np.eye(N)\n",
    "    #\n",
    "    invIA = np.linalg.inv(IN-A) \n",
    "    #\n",
    "    for i in range(N):\n",
    "        #if i%100 ==1:\n",
    "            #print(i)\n",
    "        bi = fill_bi(i,N,Lvec,Mvec,Lead)\n",
    "        # 1) Very slow method that needs to calculate every time the inverse:\n",
    "        #P[:,i] = pi_method1(i,N,Lvec,Mvec,Lead) \n",
    "        # 2) Fast method that calculates the inverse just once:\n",
    "        # P[:,i] = (invIA).dot(bi)\n",
    "        # 3) Faster method that calculates the inverse once, AND adds only the non-zero elements of bi vector.\n",
    "        iN0 = np.nonzero(bi)[0]\n",
    "        P[:,i] = invIA[:,iN0].dot(bi[iN0])   \n",
    "    #\n",
    "    # Wall\n",
    "    D = zeros((N,N))\n",
    "    for i in range(N):\n",
    "        D[:][i] = fill_di(i,N,Lvec,Mvec)  \n",
    "    C = fill_C(N,Lvec,Mvec)\n",
    "    #\n",
    "    Q = C.dot(P) + D\n",
    "    #\n",
    "    # Influence metric\n",
    "    Psi = (sum(Q,0) - Q.diagonal())/(N-1)\n",
    "    return [P,Q,Psi]"
   ]
  },
  {
   "cell_type": "code",
   "execution_count": 58,
   "metadata": {},
   "outputs": [
    {
     "name": "stdout",
     "output_type": "stream",
     "text": [
      "P1= [[ 0.26262626  0.16414141  0.15        0.04090909  0.01363636  0.01363636\n",
      "   0.04090909  0.15        0.16414141]\n",
      " [ 0.82828283  0.02861517  0.0937536   0.02515047  0.00684828  0.00224263\n",
      "   0.00212226  0.0062464   0.00673837]\n",
      " [ 0.22222222  0.27561888  0.09691998  0.29392631  0.07878526  0.02121474\n",
      "   0.00607369  0.00308002  0.00215889]\n",
      " [ 0.06060606  0.07386037  0.29392631  0.15055477  0.30829277  0.08261632\n",
      "   0.0221725   0.00607369  0.00189721]\n",
      " [ 0.02020202  0.01982258  0.07878526  0.30829277  0.15438583  0.30925054\n",
      "   0.08261632  0.02121474  0.00542995]\n",
      " [ 0.02020202  0.00542995  0.02121474  0.08261632  0.30925054  0.15438583\n",
      "   0.30829277  0.07878526  0.01982258]\n",
      " [ 0.06060606  0.00189721  0.00607369  0.0221725   0.08261632  0.30829277\n",
      "   0.15055477  0.29392631  0.07386037]\n",
      " [ 0.22222222  0.00215889  0.00308002  0.00607369  0.02121474  0.07878526\n",
      "   0.29392631  0.09691998  0.27561888]\n",
      " [ 0.82828283  0.00673837  0.0062464   0.00212226  0.00224263  0.00684828\n",
      "   0.02515047  0.0937536   0.02861517]] \n",
      "\n",
      "Q1= [[  9.64886965e-01   7.81625782e-03   7.14285714e-03   1.94805195e-03\n",
      "    6.49350649e-04   6.49350649e-04   1.94805195e-03   7.14285714e-03\n",
      "    7.81625782e-03]\n",
      " [  4.14141414e-01   5.14307584e-01   4.68767991e-02   1.25752342e-02\n",
      "    3.42413775e-03   1.12131679e-03   1.06112943e-03   3.12320092e-03\n",
      "    3.36918407e-03]\n",
      " [  1.11111111e-01   1.37809442e-01   5.48459988e-01   1.46963155e-01\n",
      "    3.93926310e-02   1.06073690e-02   3.03684514e-03   1.54001151e-03\n",
      "    1.07944732e-03]\n",
      " [  3.03030303e-02   3.69301827e-02   1.46963155e-01   5.75277385e-01\n",
      "    1.54146386e-01   4.13081593e-02   1.10862511e-02   3.03684514e-03\n",
      "    9.48605223e-04]\n",
      " [  1.01010101e-02   9.91128906e-03   3.93926310e-02   1.54146386e-01\n",
      "    5.77192914e-01   1.54625268e-01   4.13081593e-02   1.06073690e-02\n",
      "    2.71497357e-03]\n",
      " [  1.01010101e-02   2.71497357e-03   1.06073690e-02   4.13081593e-02\n",
      "    1.54625268e-01   5.77192914e-01   1.54146386e-01   3.93926310e-02\n",
      "    9.91128906e-03]\n",
      " [  3.03030303e-02   9.48605223e-04   3.03684514e-03   1.10862511e-02\n",
      "    4.13081593e-02   1.54146386e-01   5.75277385e-01   1.46963155e-01\n",
      "    3.69301827e-02]\n",
      " [  1.11111111e-01   1.07944732e-03   1.54001151e-03   3.03684514e-03\n",
      "    1.06073690e-02   3.93926310e-02   1.46963155e-01   5.48459988e-01\n",
      "    1.37809442e-01]\n",
      " [  4.14141414e-01   3.36918407e-03   3.12320092e-03   1.06112943e-03\n",
      "    1.12131679e-03   3.42413775e-03   1.25752342e-02   4.68767991e-02\n",
      "    5.14307584e-01]] \n",
      "\n",
      "Psi1= [ 0.14141414  0.02507242  0.03233536  0.04651565  0.05065933  0.05065933\n",
      "  0.04651565  0.03233536  0.02507242] \n",
      "\n"
     ]
    }
   ],
   "source": [
    "[P1,Q1,Psi1] = solution_m1(N,Lvec,Mvec,Lead)\n",
    "print(\"P1=\",P1,\"\\n\")\n",
    "print(\"Q1=\",Q1,\"\\n\")\n",
    "print(\"Psi1=\",Psi1,\"\\n\")"
   ]
  },
  {
   "cell_type": "markdown",
   "metadata": {
    "collapsed": true
   },
   "source": [
    "**(M2) The second method is based on the fixed point conversion**\n",
    "\n",
    "$p_i(t+1) = A.p_i(t) + b_i$, for $t\\rightarrow\\infty$.\n",
    "\n",
    "This should converge to $p_i$. Once it is found, the Wall steady-state can be calculated\n",
    "\n",
    "$q_i = C.p_i + d_i$.\n",
    "\n",
    "We first solve the fixed point for a specific label $i$."
   ]
  },
  {
   "cell_type": "code",
   "execution_count": 59,
   "metadata": {},
   "outputs": [],
   "source": [
    "def pi_method2(i,N,Lvec,Mvec,Lead,it = 1000, eps = .00001):\n",
    "    # This method resolves the fixed-point.\n",
    "    #\n",
    "    A = fill_A(N,Lvec,Mvec,Lead)\n",
    "    bi = fill_bi(i,N,Lvec,Mvec,Lead)\n",
    "    #\n",
    "    # Initialisation (the result should be independent)\n",
    "    #\n",
    "    pi0 = np.ones(N)/N\n",
    "    p_new = list(pi0)\n",
    "    p_new = np.asarray(p_new)\n",
    "    p_old = np.zeros(N)\n",
    "    #\n",
    "    t = 0\n",
    "    while (t<it) & (np.linalg.norm(p_old-p_new,ord=inf)>eps):\n",
    "        p_old = list(p_new)\n",
    "        p_old = np.asarray(p_old)\n",
    "        p_new = list(A.dot(p_old)+bi)\n",
    "        p_new = np.asarray(p_new)\n",
    "        t += 1\n",
    "    \n",
    "    #print(\"t=\",t,\"\\n\")\n",
    "    return p_new"
   ]
  },
  {
   "cell_type": "code",
   "execution_count": 60,
   "metadata": {},
   "outputs": [
    {
     "name": "stdout",
     "output_type": "stream",
     "text": [
      "pi1= [ 0.16414141  0.02861517  0.27561888  0.07386037  0.01982258  0.00542995\n",
      "  0.00189721  0.00215889  0.00673837] \n",
      " pi2= [ 0.16414255  0.02861548  0.27562098  0.07386236  0.01982667  0.00543248\n",
      "  0.00190063  0.00216028  0.00673885] \n",
      "\n"
     ]
    }
   ],
   "source": [
    "pi2 = pi_method2(1,N,Lvec,Mvec,Lead)\n",
    "print(\"pi1=\",pi1,\"\\n\",\"pi2=\",pi2,\"\\n\")"
   ]
  },
  {
   "cell_type": "code",
   "execution_count": 69,
   "metadata": {
    "collapsed": true
   },
   "outputs": [],
   "source": [
    "def solution_m2(N,Lvec,Mvec,Lead,it = 1000, eps = .00001):\n",
    "    # The fixed point solution is slow because the fixed point needs to be \n",
    "    # calculated for each label i separately.\n",
    "    # Newsfeed\n",
    "    P_old = np.zeros((N,N))\n",
    "    B = np.zeros((N,N))\n",
    "    #\n",
    "    for i in range(N):\n",
    "        # Slow: repeat pi_method2 for all i\n",
    "        # P[:,i] = pi_method2(i,N,Lvec,Mvec,Lead,it = 1000, eps = .00001)\n",
    "        # Fast: Do one iteration for matrix P and B.\n",
    "        B[:,i] = fill_bi(i,N,Lvec,Mvec,Lead)\n",
    "    P0 = np.ones((N,N))/N\n",
    "    P_new = list(P0)\n",
    "    P_new = np.asarray(P_new)\n",
    "    #\n",
    "    t = 0\n",
    "    while (t<it) & (np.linalg.norm(P_old-P_new,ord=inf)>eps):\n",
    "        P_old = list(P_new)\n",
    "        P_old = np.asarray(P_old)\n",
    "        P_new = list(A.dot(P_old)+B)\n",
    "        P_new = np.asarray(P_new)\n",
    "        t += 1\n",
    "    \n",
    "    P = list(P_new)\n",
    "    P = np.asarray(P)\n",
    "    # Wall\n",
    "    D = zeros((N,N))\n",
    "    for i in range(N):\n",
    "        D[:][i] = fill_di(i,N,Lvec,Mvec)  \n",
    "    C = fill_C(N,Lvec,Mvec)\n",
    "    #\n",
    "    Q = C.dot(P) + D\n",
    "    #\n",
    "    # Influence metric\n",
    "    Psi = (sum(Q,0) - Q.diagonal())/(N-1)\n",
    "    \n",
    "    return [P,Q,Psi]"
   ]
  },
  {
   "cell_type": "code",
   "execution_count": 70,
   "metadata": {},
   "outputs": [
    {
     "name": "stdout",
     "output_type": "stream",
     "text": [
      "P2= [[ 0.26262617  0.16414153  0.15000005  0.04090906  0.01363628  0.01363628\n",
      "   0.04090906  0.15000005  0.16414153]\n",
      " [ 0.8282828   0.02861521  0.0937536   0.02515048  0.00684822  0.00224263\n",
      "   0.00212223  0.00624643  0.0067384 ]\n",
      " [ 0.22222209  0.27561901  0.09692012  0.29392614  0.07878528  0.02121448\n",
      "   0.00607375  0.00308003  0.0021591 ]\n",
      " [ 0.06060584  0.07386069  0.29392631  0.15055488  0.30829235  0.08261636\n",
      "   0.02217224  0.00607393  0.00189741]\n",
      " [ 0.02020176  0.01982282  0.07878554  0.30829244  0.15438587  0.30925003\n",
      "   0.08261645  0.02121474  0.00543034]\n",
      " [ 0.02020176  0.00543034  0.02121474  0.08261645  0.30925003  0.15438587\n",
      "   0.30829244  0.07878554  0.01982282]\n",
      " [ 0.06060584  0.00189741  0.00607393  0.02217224  0.08261636  0.30829235\n",
      "   0.15055488  0.29392631  0.07386069]\n",
      " [ 0.22222209  0.0021591   0.00308003  0.00607375  0.02121448  0.07878528\n",
      "   0.29392614  0.09692012  0.27561901]\n",
      " [ 0.8282828   0.0067384   0.00624643  0.00212223  0.00224263  0.00684822\n",
      "   0.02515048  0.0937536   0.02861521]] \n",
      "\n",
      "Q2= [[  9.64886960e-01   7.81626312e-03   7.14285952e-03   1.94805035e-03\n",
      "    6.49346810e-04   6.49346810e-04   1.94805035e-03   7.14285952e-03\n",
      "    7.81626312e-03]\n",
      " [  4.14141398e-01   5.14307606e-01   4.68768014e-02   1.25752380e-02\n",
      "    3.42411149e-03   1.12131511e-03   1.06111389e-03   3.12321595e-03\n",
      "    3.36920023e-03]\n",
      " [  1.11111044e-01   1.37809503e-01   5.48460059e-01   1.46963071e-01\n",
      "    3.93926400e-02   1.06072407e-02   3.03687733e-03   1.54001570e-03\n",
      "    1.07954886e-03]\n",
      " [  3.03029192e-02   3.69303447e-02   1.46963156e-01   5.75277438e-01\n",
      "    1.54146176e-01   4.13081785e-02   1.10861188e-02   3.03696267e-03\n",
      "    9.48706686e-04]\n",
      " [  1.01008791e-02   9.91140839e-03   3.93927715e-02   1.54146222e-01\n",
      "    5.77192937e-01   1.54625015e-01   4.13082247e-02   1.06073722e-02\n",
      "    2.71516970e-03]\n",
      " [  1.01008791e-02   2.71516970e-03   1.06073722e-02   4.13082247e-02\n",
      "    1.54625015e-01   5.77192937e-01   1.54146222e-01   3.93927715e-02\n",
      "    9.91140839e-03]\n",
      " [  3.03029192e-02   9.48706686e-04   3.03696267e-03   1.10861188e-02\n",
      "    4.13081785e-02   1.54146176e-01   5.75277438e-01   1.46963156e-01\n",
      "    3.69303447e-02]\n",
      " [  1.11111044e-01   1.07954886e-03   1.54001570e-03   3.03687733e-03\n",
      "    1.06072407e-02   3.93926400e-02   1.46963071e-01   5.48460059e-01\n",
      "    1.37809503e-01]\n",
      " [  4.14141398e-01   3.36920023e-03   3.12321595e-03   1.06111389e-03\n",
      "    1.12131511e-03   3.42411149e-03   1.25752380e-02   4.68768014e-02\n",
      "    5.14307606e-01]] \n",
      "\n",
      "Psi2= [ 0.14141406  0.02507252  0.03233539  0.04651561  0.05065925  0.05065925\n",
      "  0.04651561  0.03233539  0.02507252] \n",
      "\n",
      "Psi1= [ 0.14141414  0.02507242  0.03233536  0.04651565  0.05065933  0.05065933\n",
      "  0.04651565  0.03233536  0.02507242] \n",
      "\n"
     ]
    }
   ],
   "source": [
    "[P2,Q2,Psi2] = solution_m2(N,Lvec,Mvec,Lead)\n",
    "print(\"P2=\",P2,\"\\n\")\n",
    "print(\"Q2=\",Q2,\"\\n\")\n",
    "print(\"Psi2=\",Psi2,\"\\n\")\n",
    "print(\"Psi1=\",Psi1,\"\\n\")"
   ]
  },
  {
   "cell_type": "markdown",
   "metadata": {},
   "source": [
    "Hence the two methods bring the same result. (M1) can be faster, because the inverse is calculated only once for all $i$, however, it can be very hard to calculate exactly the inverse as the size $N$ of the network increases. (M2) The fixed point iteration can be performed for the matrix $P$ using matrix $B$ containing all vectors $b_i$, hence one iteration is enough. One needs to find the trade-off between calculating the inverse and iterating the fixed point process, to decide what is faster."
   ]
  }
 ],
 "metadata": {
  "kernelspec": {
   "display_name": "Python 3",
   "language": "python",
   "name": "python3"
  },
  "language_info": {
   "codemirror_mode": {
    "name": "ipython",
    "version": 3
   },
   "file_extension": ".py",
   "mimetype": "text/x-python",
   "name": "python",
   "nbconvert_exporter": "python",
   "pygments_lexer": "ipython3",
   "version": "3.6.2"
  }
 },
 "nbformat": 4,
 "nbformat_minor": 2
}
